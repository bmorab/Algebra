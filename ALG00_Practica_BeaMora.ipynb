{
 "cells": [
  {
   "cell_type": "markdown",
   "metadata": {},
   "source": [
    "# Práctica"
   ]
  },
  {
   "cell_type": "markdown",
   "metadata": {},
   "source": [
    "## 1. La conjetura de Collatz\n",
    "\n",
    "<img src=\"Images/comic_collatz.png\" style=\"width: 400px;\"/>\n",
    "\n",
    "Empiezas con un número entero natural cualquiera (1, 2, 3, 4, 5...).  \n",
    "Si el número es par, lo divides por 2  \n",
    "Si es impar, lo multiplicas por 3 y le sumas 1  \n",
    "\n",
    "Escribir un procedimiento en Python que implemente el mecanismo de la conjetura de Collatz para cualquier número entero positivo."
   ]
  },
  {
   "cell_type": "code",
   "execution_count": null,
   "metadata": {},
   "outputs": [],
   "source": [
    "numero = 512\n",
    "\n",
    "def collatz_check(a):\n",
    "    if (a%2 == 0):\n",
    "        result = a/2\n",
    "    else:\n",
    "        result = 3*a + 1\n",
    "    return result\n",
    "\n",
    "\n",
    "print(\"La sequencia de números para {} es:\" .format(numero))\n",
    "seq = collatz_check(numero)\n",
    "while (seq!= 1):\n",
    "    seq = collatz_check(seq)\n",
    "    print (int(seq))\n",
    "    \n"
   ]
  },
  {
   "cell_type": "markdown",
   "metadata": {},
   "source": [
    "## 2. Suma y producto escalar combinados\n",
    "\n",
    "Usando los procedimientos add y mult_vector_escalar definidos en el notebook **ALG05_Vectores**, calcular:   \n",
    "{$\\alpha$[1,2]+[3,4] : $\\alpha$$\\in$$\\mathbb{R}$, 0$\\leq$$\\alpha$$\\leq$1, con una precision de dos decimales (para la multiplicación)}"
   ]
  },
  {
   "cell_type": "code",
   "execution_count": null,
   "metadata": {},
   "outputs": [],
   "source": [
    "def addn(v,w):\n",
    "    return[round(v[i]+w[i], 2) for i in range(len(v))]\n",
    "\n",
    "def mult_vector_escalar(alpha, v):\n",
    "    return[round(alpha*v[i], 2) for i in range(len(v))]\n",
    "\n",
    "import numpy as np\n",
    "a = np.arange(0.00, 1, 0.01)\n",
    "\n",
    "for number in a:\n",
    "    v2 = mult_vector_escalar(number, [1,2])\n",
    "    suma = addn(v2, [3,4])\n",
    "    print (suma)\n"
   ]
  },
  {
   "cell_type": "markdown",
   "metadata": {},
   "source": [
    "## 3. El secreto perfecto\n",
    "\n",
    "Representa la encriptación de la adicción de un n-vector a un n-vector de GF(2)  \n",
    "\n",
    "<img src=\"Images/mortadelo-filemon.jpg\" style=\"width: 300px;\"/>\n",
    "\n",
    "Mortadelo y Filemón usan como clave el siguiente vector:  \n",
    "**k**=[0,1,0,0,1,0,1,0,1,0] \n",
    "\n",
    "Mortadelo quiere enviarle a Filemón el siguiente mensaje:  \n",
    "**p**=[0,0,0,1,1,1,0,1,0,1] \n",
    "\n",
    "Mortadelo encripta su mensaje añadiendo k: \n",
    "**c**=**p**+**k**=[0,0,0,1,1,1,0,1,0,1]+[0,1,0,0,1,0,1,0,1,0]=[0,1,0,1,0,1,1,1,1,1] \n",
    "\n",
    "Cuando Filemón recibe el mensaje, lo desencripta añadiendo **k** a lo que ha recibido \n",
    "**p**=**c**+**k**=[0,1,0,1,0,1,1,1,1,1]+[0,1,0,0,1,0,1,0,1,0]=[0,0,0,1,1,1,0,1,0,1]    \n",
    "\n",
    "que es el mensaje original.\n",
    "\n",
    "La idea es crear un procedimiento para que Filemón:\n",
    "* No tenga que hacer este proceso manualmente cada vez que Mortadelo le envíe un mensaje encriptado para descifrarlo\n",
    "* Si deciden cambiar la clave, que el procedimiento cambie mínimamente"
   ]
  },
  {
   "cell_type": "code",
   "execution_count": null,
   "metadata": {},
   "outputs": [],
   "source": [
    "clave = [0,1,0,0,1,0,1,0,1,0]\n",
    "mensajeMortadelo = [0,0,0,1,1,1,0,1,0,1]\n",
    "\n",
    "\n",
    "def GF2(a,b):\n",
    "    if (a==b==1):\n",
    "        c = 0\n",
    "    else:\n",
    "        c = a+b\n",
    "    return c\n",
    "\n",
    "def encriptacion(v,w):\n",
    "    resultado = []\n",
    "    for i in range(len(v)):\n",
    "        resultado.append(GF2(v[i], w[i]))\n",
    "    return resultado\n",
    "\n",
    "mensajeEnviado = encriptacion(mensajeMortadelo, clave)\n",
    "mensajeRecibido = encriptacion(mensajeEnviado, clave)\n",
    "\n",
    "print(\"El mensaje para Filemon desencriptado es: {}\".format(mensajeRecibido))\n"
   ]
  },
  {
   "cell_type": "markdown",
   "metadata": {},
   "source": [
    "## 4. ¿Cuánto cuesta hacer una cerveza?\n",
    "\n",
    "<img src=\"Images/cerveza.jpg\" style=\"width: 300px;\"/>\n",
    "\n",
    "Supongamos que D es el conjunto de algunos ingredientes de la cerveza: \n",
    "> D={lúpulo, malta, agua, levadura} \n",
    "\n",
    "Por otro lado tenemos el vector coste:\n",
    "> coste={lúpulo: 2,5€, malta: 1.5€, agua: 0.006€, levadura: 0,45€}  \n",
    "\n",
    "Por último tenemos el vector cantidad con lo necesario para hacer una cerveza:\n",
    "> cantidad={lúpulo: 6u, malta: 14u, agua: 7u, levadura: 11u} \n",
    "\n",
    "¿Cuánto cuesta hacer una cerveza?"
   ]
  },
  {
   "cell_type": "code",
   "execution_count": null,
   "metadata": {},
   "outputs": [],
   "source": [
    "coste = [2.5, 1.5, 0.006 , 0.45]\n",
    "cantidad = [6 , 14, 7, 11]\n",
    "\n",
    "def producto_escalar(u,v):\n",
    "    return sum(u[i]*v[i] for i in range(len(u)))\n",
    "\n",
    "precio = producto_escalar (coste, cantidad)\n",
    "\n",
    "print(\"El precio de una cerveza es {0:.2f} \".format(precio))"
   ]
  },
  {
   "cell_type": "markdown",
   "metadata": {},
   "source": [
    "## 5. La carrera de caballos\n",
    "\n",
    "Tres caballos A, B y C compiten en una carrera.  \n",
    "Las apuestas para dar como vencedor a cada uno de ellos son de 4 a 1 para A, 3 a 1 para B y 2 a 1 para C, tomando las unidades siempre en euros.  \n",
    "¿Cuánto debo apostar por cada caballo para asegurarme recibir 13 euros en toal, sin importar qué csaballo gane la carrera?"
   ]
  },
  {
   "cell_type": "markdown",
   "metadata": {},
   "source": [
    "Sean x,y,z el dinero apostado por los caballos A, B y C respectivamente.\n",
    "El objetivo del problema escalcular la cantidad que debe apostarse por cada caballo de forma que la suma del dinero recibido y perdido en ñas apuestas sea siempre igual a 13€.  \n",
    "Así, podemos plantear un sistema de tres ecuaciones con tres incógnitas, en el que igualaremos matemáticamente la cantidad percibida por la victoria de los caballos A, B, C y, al mismo tiempo, señalaremos que esta cantidad corresponde a 13€.  \n",
    "\n",
    "> 4x-y-z=3y-x-z  \n",
    "> 3y-x-z=2z-x-y  \n",
    "> 2z-x-y=13\n"
   ]
  },
  {
   "cell_type": "code",
   "execution_count": null,
   "metadata": {},
   "outputs": [],
   "source": [
    "import numpy as np\n",
    "\n",
    "# Matrix coeficiente y resultado\n",
    "coeficientes = np.matrix ([\n",
    "    [5, -4, 0],\n",
    "    [0, 4, -3],\n",
    "    [-1, -1, 2]\n",
    "])\n",
    "\n",
    "constantes = np.matrix ([\n",
    "    [0],\n",
    "    [0],\n",
    "    [13]\n",
    "])\n",
    "\n",
    "A = np.append (coeficientes,constantes, axis=1)\n",
    "\n",
    "# Verificar que tipo de sistema de ecuaciones es\n",
    "detCoeficientes = np.linalg.det(coeficientes)\n",
    "print(\"Como el determinante de la matriz de coeficientes es distinto de 0, (det = {}), entonces es un SCD.\".format(detCoeficientes))\n",
    "\n",
    "rangoC = np.linalg.matrix_rank(coeficientes)\n",
    "rangoA = np.linalg.matrix_rank(A)\n",
    "print(\"Los rangos de las dos matrices son iguales, e igual a {} , por lo tanto es un SCD.\".format(rangoA))\n",
    "\n",
    "# Cálculo de la solución\n",
    "inv_coeficientes =np.linalg.inv(coeficientes)\n",
    "resultado = inv_coeficientes*constantes\n",
    "\n",
    "print(\"Las soluciones son: \\n {}\".format(resultado))  \n"
   ]
  },
  {
   "cell_type": "markdown",
   "metadata": {},
   "source": [
    "## 6. Dimensión de matrices\n",
    "\n",
    "Sea la matriz $\n",
    "  M=\n",
    "  \\left[ {\\begin{array}{cc}\n",
    "   1 & 0  & 0 & 5 \\\\\n",
    "   0 & 2  & 0 & 7 \\\\\n",
    "   0 & 0  & 3 & 9 \\\\\n",
    "  \\end{array} } \\right]\n",
    "$. Calcular el rango por filas y por columnas usando Python."
   ]
  },
  {
   "cell_type": "code",
   "execution_count": null,
   "metadata": {},
   "outputs": [],
   "source": [
    "M = np.matrix ([\n",
    "    [1, 0, 0, 5],\n",
    "    [0, 2, 0, 7],\n",
    "    [0, 0, 3, 9]  \n",
    "])\n",
    "\n",
    "rangoF = np.linalg.matrix_rank(M)\n",
    "print (\"El rango por filas es: {}\".format(rangoF))\n"
   ]
  },
  {
   "cell_type": "code",
   "execution_count": null,
   "metadata": {},
   "outputs": [],
   "source": [
    "MT = np.transpose(M)\n",
    "rangoC = np.linalg.matrix_rank(MT)\n",
    "print (\"El rango por columnas es: {}\".format(rangoC))"
   ]
  },
  {
   "cell_type": "markdown",
   "metadata": {},
   "source": [
    "## 7. Bosque de extensión mínima\n",
    "\n",
    "<img src=\"Images/bosque.png\" style=\"width: 800px;\"/>\n",
    "\n",
    "En clase hemos hecho el caso del grafo de la derecha. Le toca el turno al de la izquierda.\n",
    "Supongamos que queremos diseñar la red de internet para el otro campus universitario.  \n",
    "La red debe lograr la misma conectividad que el grafo de entrada.  \n",
    "Una arista representa un posible cable.  \n",
    "El peso de la arista es el coste de instalar el cable.  \n",
    "Nuestro objetivo es minimizar el coste total, usando el algoritmo Grow y el algoritmo Shrink.\n",
    "Lo único que en este caso se pide crear un procedimiento para el algoritmo Grow y otro para el Shrink que lo hagan automáticamente una vez les metamos como parámetros las aristas y sus pesos"
   ]
  },
  {
   "cell_type": "code",
   "execution_count": 15,
   "metadata": {},
   "outputs": [],
   "source": [
    "grafo = [(\"PC\",\"AC\",7),\n",
    "         (\"PC\",\"BM\",2),\n",
    "         (\"BM\",\"AC\",9),\n",
    "        ]\n",
    "\n",
    "\n",
    "#solo graba si los elementos son diferentes\n",
    "def Fn_Get_Nodos(grafo):\n",
    "    nodos = set()\n",
    "    for i in range(len(grafo)):\n",
    "        nodos.add(grafo[i][0])\n",
    "        nodos.add(grafo[i][1])        \n",
    "    return nodos\n",
    "\n",
    "\n",
    "def Grow_algorithm (grafo):\n",
    "\n",
    "    bosque = []\n",
    "    grafoSorted = sorted (grafo, reverse=True)\n",
    "    bosque.append(grafoSorted[0])\n",
    "\n",
    "    nodos_g = Fn_Get_Nodos(grafo)\n",
    "    nodos_b = Fn_Get_Nodos(bosque)\n",
    "    nodos_restantes = nodos_g - nodos_b\n",
    "\n",
    "    l = []\n",
    "    for n in nodos_restantes:\n",
    "        for linea in grafo:\n",
    "            if n in linea[0]:\n",
    "                l.append(linea)\n",
    "            elif n in linea[1]:\n",
    "                l.append(linea) \n",
    "\n",
    "        p_min = 100\n",
    "        for linea2 in l:\n",
    "            peso = linea2[2]\n",
    "            if peso < p_min :\n",
    "                p_min = peso\n",
    "            \n",
    "        for linea3 in l:\n",
    "            if linea3[2] == p_min:\n",
    "                bosque.append(linea3)\n",
    "         \n",
    "        PesoTotal = 0\n",
    "        for linea4 in bosque:\n",
    "            PesoTotal = PesoTotal + linea4[2]\n",
    "            #print(PesoTotal)\n",
    "\n",
    "    nodosTotal = Fn_Get_Nodos(bosque)\n",
    "    #print(nodosTotal)\n",
    "    \n",
    "    print (\"El bosque formado es \", bosque)\n",
    "    print (\"La suma de los pesos del camino mas corto es: \", PesoTotal)\n"
   ]
  },
  {
   "cell_type": "code",
   "execution_count": 16,
   "metadata": {},
   "outputs": [
    {
     "name": "stdout",
     "output_type": "stream",
     "text": [
      "El bosque formado es  [('PC', 'BM', 2), ('PC', 'AC', 7)]\n",
      "La suma de los pesos del camino mas corto es:  9\n"
     ]
    }
   ],
   "source": [
    "Grow_algorithm(grafo)"
   ]
  },
  {
   "cell_type": "code",
   "execution_count": 13,
   "metadata": {},
   "outputs": [],
   "source": [
    "grafo = [(\"PC\",\"AC\",7),\n",
    "         (\"PC\",\"BM\",2),\n",
    "         (\"BM\",\"AC\",9),\n",
    "        ]\n",
    "\n",
    "def Fn_Get_Nodos(grafo):\n",
    "    nodos = set()\n",
    "    for i in range(len(grafo)):\n",
    "        nodos.add(grafo[i][0])\n",
    "        nodos.add(grafo[i][1])        \n",
    "    return nodos\n",
    "\n",
    "\n",
    "\n",
    "def Fn_Get_Pesos(grafo):\n",
    "    l = []\n",
    "    for i in grafo:\n",
    "        l.append(i[2])\n",
    "    l.sort(reverse=True)\n",
    "    return l\n",
    "pesos = Fn_Get_Pesos(grafo)\n",
    "#print (\"Los pesos son: \", pesos)\n",
    "\n",
    "\n",
    "def Fn_Eliminar_Nodo (grafo,nodo):\n",
    "    grafoCopia=grafo.copy()\n",
    "    for v in grafo:\n",
    "        # Miramos si el nodo está en ese elemento del grafo\n",
    "        if nodo in v[0] or nodo in v[1]:\n",
    "            grafoCopia.remove(v)\n",
    "    return grafoCopia\n",
    "\n",
    "#print(\"eliminar nodo\", Fn_Eliminar_Nodo(grafo, \"PC\"))\n",
    "\n",
    "def Fn_Get_NodConect (grafoOriginal,nodo):\n",
    "    nodos1=set()\n",
    "    for v in grafoOriginal:\n",
    "        # Buscamos si el nodo que hemos metido como parámetro pertenece a ese elemento del grafoOriginal\n",
    "        if nodo in v[0]  or nodo in v[1]:\n",
    "            nodos1.add(v[0])\n",
    "            nodos1.add(v[1])\n",
    "        #restamos el nodo original con el que buscamos conexiones -- iimpo usar {}\n",
    "        nodos1= nodos1 - {nodo}\n",
    "    return nodos1\n",
    "\n",
    "#print(\"nodo conectado\", Fn_Get_NodConect(grafo, \"PC\"))\n",
    "\n",
    "def Fn_Check_Camino(grafoOriginal,nodoA,nodoB):\n",
    "    grafo=grafoOriginal.copy()\n",
    "    for v in grafo:\n",
    "        if (v[0]==nodoA or v[1]==nodoA) and (v[1]==nodoB or v[1]==nodoB):\n",
    "            return True\n",
    "    nodosParaBuscar=Fn_Get_NodConect (grafo,nodoA)\n",
    "    # Quitar el nodoA\n",
    "    nuevoGrafo=Fn_Eliminar_Nodo(grafo,nodoA)\n",
    " \n",
    "    for e in nodosParaBuscar:\n",
    "        if Fn_Check_Camino(nuevoGrafo,e,nodoB):\n",
    "            return True   \n",
    "    \n",
    "#print(\"check camino\", Fn_Check_Camino(grafo, \"PC\", \"BM\")) \n",
    "# el orden de los vertices es importante por la estructura de datos que he escogigo yo, si no se sigue, no funciona\n",
    "   \n",
    "def Shrink_algorithm (grafo):\n",
    "    bosque = grafo.copy()\n",
    "    grafoSorted = sorted (grafo, reverse=False)\n",
    "    bosque.remove(grafoSorted[0])\n",
    "    nodos_g = Fn_Get_Nodos(grafo)\n",
    "\n",
    "    while pesos:\n",
    "        pesoBuscado = pesos[0] \n",
    "        for i in range(0, len(bosque)): \n",
    "            nuevoVertice = bosque.pop(i)\n",
    "            pesos.remove(pesoBuscado)\n",
    "            break\n",
    "\n",
    "        for n1 in nodos_g:\n",
    "            esteNodo = set()\n",
    "            esteNodo.add(n1)\n",
    "            restoNodos = nodos_g - esteNodo\n",
    "            for n2 in restoNodos:\n",
    "                conectados = Fn_Check_Camino(bosque, n1, n2)\n",
    "                if conectados is True:\n",
    "                    break\n",
    "\n",
    "        if Fn_Get_Nodos(bosque) != nodos_g:\n",
    "            bosque.append(nuevoVertice)\n",
    "        # También, si al hacer la comprobación, me hubiese salido que no están conectados, hay que añadir el vertice\n",
    "        elif conectados is False:\n",
    "            bosque.append(nuevoVertice)\n",
    "\n",
    "    \n",
    "    PesoTotal = 0\n",
    "    for linea4 in bosque:\n",
    "        PesoTotal = PesoTotal + linea4[2]\n",
    "      \n",
    "    \n",
    "    print(\"El bosque formado es \", bosque)\n",
    "    print (\"La suma de los pesos del camino mas corto es: \", PesoTotal)\n"
   ]
  },
  {
   "cell_type": "code",
   "execution_count": 14,
   "metadata": {},
   "outputs": [
    {
     "name": "stdout",
     "output_type": "stream",
     "text": [
      "El bosque formado es  [('PC', 'BM', 2), ('PC', 'AC', 7)]\n",
      "La suma de los pesos del camino mas corto es:  9\n"
     ]
    }
   ],
   "source": [
    "Shrink_algorithm(grafo)"
   ]
  },
  {
   "cell_type": "markdown",
   "metadata": {},
   "source": [
    "## 8. El dígito móvil\n",
    "\n",
    "<img src=\"Images/imagenx2.png\" style=\"width: 500px;\"/>\n",
    "\n",
    "Hallar un número tal que, multiplicado por 3 y dividido entre 2, dé el mismo resultado que si moviéramos el primer dígito del número, el 3, desde el principio hasta el final de la fila de dígitos\n",
    "\n",
    "PISTA: Los únicos números que, al ser multiplicados por determinadas cifras, producen otros números cuyos dígitos siguen la misma secuencia que el número original aunque comenzando por otro de sus dígitos, son los períodos de los números decimales periódicos. Estos números se dicen **cíclicos**.  \n",
    "Nosotros queremos buscar un número de este tipo\n",
    "\n",
    "PISTA: No hay que resolverlo con Python"
   ]
  },
  {
   "cell_type": "markdown",
   "metadata": {},
   "source": [
    "Un numero ciclico podria ser el 17 :\n",
    "Cuando divido 1 / 17 , el resultado es 0.0588235294117647\n",
    "Los restos de la divisiones son : 10, 15, 14, 4, 6, 9, 5, 16, 7, 2, 3, 13, 11, 8, 12\n",
    "Si multiplico 0.0588235294117647 * 6 = 3529411764705882\n",
    "Si este numero lo multiplico por 3 y lo divido por 2 = 3529411764705882 * 3 / 2 = 5294117647058823\n",
    "\n"
   ]
  },
  {
   "cell_type": "markdown",
   "metadata": {},
   "source": [
    "## 9. Agujas superpuestas\n",
    "\n",
    "<img src=\"Images/reloj-movimiento--478x578.jpg\" style=\"width: 250px;\"/>\n",
    "\n",
    "El horario y el minutero de un reloj se juntan exactamente cada 65 minutos.  \n",
    "Calcular si el reloj se adelanta o se atrasa, y cuánto por hora.  \n",
    "\n",
    "PISTA: Suponer que las agujas del reloj empiezan en las 12 en punto.\n",
    "\n",
    "PISTA: No hace falta resolverlo con Python"
   ]
  },
  {
   "cell_type": "markdown",
   "metadata": {},
   "source": [
    "El horario y el minutero se cruzan 11 veces para dar una vuelta entera en el reloj.\n",
    "\n",
    "12 horas x 60 minutos = 720 minutos\n",
    "En 720 minutos se cruzan 11 veces --> 720/11 = 65,454545 \n",
    "Cada 65 minutos 27 segundos se cruzan las manecillas del reloj. \n",
    "El cruce de las manecillas se atrasa en cada hora, 5 minutos y 27 segundos. "
   ]
  },
  {
   "cell_type": "markdown",
   "metadata": {},
   "source": [
    "## 10. Cuadrados perfectos\n",
    "\n",
    "<img src=\"Images/cuadrados-perfectos.jpg\" style=\"width: 500px;\"/>\n",
    "\n",
    "Averiguar el número entero positivo que, sumado tanto a 100 como a 164, propociona sendos cuadrados perfectos.\n",
    "\n",
    "PISTA: No hace falta resolverlo con Python"
   ]
  },
  {
   "cell_type": "markdown",
   "metadata": {},
   "source": []
  },
  {
   "cell_type": "code",
   "execution_count": null,
   "metadata": {},
   "outputs": [],
   "source": [
    "import math  \n",
    "def cuadrados_perfectos (a, constante):\n",
    "    suma = a + constante\n",
    "    x = math.sqrt(suma)\n",
    "    check = x % int(x)\n",
    "    return check, suma\n",
    "\n",
    "#print(cuadrados_perfectos(5, 164 ))\n",
    "\n",
    "constante = 100\n",
    "comprobacion = 1\n",
    "a = 1\n",
    "num = 0\n",
    "while (comprobacion != 0):\n",
    "    [comprobacion, num] = cuadrados_perfectos (a, constante)\n",
    "    a = a +1\n",
    "    \n",
    "alpha = num - constante\n",
    "print(\"El numero positivo que hay que sumar a la constante {} es: {} \".format(constante, alpha))\n",
    "\n",
    "constante = 164\n",
    "comprobacion = 1\n",
    "a = 1\n",
    "num = 0\n",
    "while (comprobacion != 0):\n",
    "    [comprobacion, num] = cuadrados_perfectos (a,constante)\n",
    "    a = a +1\n",
    "    \n",
    "alpha = num - constante\n",
    "print(\"El numero positivo que hay que sumar a la constante {} es: {} \".format(constante, alpha))\n",
    "\n"
   ]
  },
  {
   "cell_type": "markdown",
   "metadata": {},
   "source": [
    "## 11. Días de vacaciones\n",
    "\n",
    "<img src=\"Images/vacaciones.jpg\" style=\"width: 500px;\"/>\n",
    "\n",
    "Durante mis vacaciones llovió 9 días, y hubo 10 mañanas y 9 tardes soleadas. Cuando llovió por la mañana, la tarde fue soleada.\n",
    "¿Cuántos días duraron mis vacaciones?"
   ]
  },
  {
   "cell_type": "markdown",
   "metadata": {},
   "source": [
    "Los dias de lluvia son 9, que estan compuestas de mañanas y tardes\n",
    "x + y = 9  --> x = 9 - y "
   ]
  },
  {
   "cell_type": "markdown",
   "metadata": {},
   "source": [
    "Los dias de vacacioes estan compuestos de dias soleados y de lluvia\n",
    "10 mañanas soleadas + x de lluvia = 9 tardes soleadas mas y de lluvia\n",
    "10 + x = 9 + y\n",
    "2y = 10  --> y = 5  ;  x = 4\n",
    "\n",
    "Resultado las vacaciones duraron 14 dias. \n",
    "\n"
   ]
  }
 ],
 "metadata": {
  "kernelspec": {
   "display_name": "Python 3",
   "language": "python",
   "name": "python3"
  },
  "language_info": {
   "codemirror_mode": {
    "name": "ipython",
    "version": 3
   },
   "file_extension": ".py",
   "mimetype": "text/x-python",
   "name": "python",
   "nbconvert_exporter": "python",
   "pygments_lexer": "ipython3",
   "version": "3.7.6"
  }
 },
 "nbformat": 4,
 "nbformat_minor": 2
}
